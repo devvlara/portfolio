{
 "cells": [
  {
   "cell_type": "markdown",
   "id": "df4f9e20-90ed-4985-8c6f-84a792872662",
   "metadata": {},
   "source": [
    "# Goal\n",
    "\n",
    "To Web Scrape Zillow to see the average home price of the Dallas Area. ***Note that API is limited to pulling 500 Values***"
   ]
  },
  {
   "cell_type": "markdown",
   "id": "a0e92278-2645-4b36-9a46-8452182ce636",
   "metadata": {},
   "source": [
    "### Links"
   ]
  },
  {
   "cell_type": "markdown",
   "id": "32027eb0-91bf-447a-8e43-5ddce1fb1e47",
   "metadata": {},
   "source": [
    "Zillow: https://www.zillow.com/dallas-tx/\n",
    "\n",
    "Zillow Sold: https://www.zillow.com/dallas-tx/sold/?searchQueryState=%7B%22pagination%22%3A%7B%7D%2C%22isMapVisible%22%3Atrue%2C%22mapBounds%22%3A%7B%22north%22%3A33.041254272695596%2C%22south%22%3A32.594037410567665%2C%22east%22%3A-96.46741105322266%2C%22west%22%3A-97.08745194677735%7D%2C%22filterState%22%3A%7B%22sort%22%3A%7B%22value%22%3A%22globalrelevanceex%22%7D%2C%22ah%22%3A%7B%22value%22%3Atrue%7D%2C%22rs%22%3A%7B%22value%22%3Atrue%7D%2C%22fsba%22%3A%7B%22value%22%3Afalse%7D%2C%22fsbo%22%3A%7B%22value%22%3Afalse%7D%2C%22nc%22%3A%7B%22value%22%3Afalse%7D%2C%22cmsn%22%3A%7B%22value%22%3Afalse%7D%2C%22auc%22%3A%7B%22value%22%3Afalse%7D%2C%22fore%22%3A%7B%22value%22%3Afalse%7D%7D%2C%22isListVisible%22%3Atrue%2C%22mapZoom%22%3A11%2C%22regionSelection%22%3A%5B%7B%22regionId%22%3A38128%2C%22regionType%22%3A6%7D%5D%7D\n"
   ]
  },
  {
   "cell_type": "markdown",
   "id": "1ba3aaab-0d23-4401-800b-a7d290301001",
   "metadata": {},
   "source": [
    "### Imports"
   ]
  },
  {
   "cell_type": "code",
   "execution_count": 6,
   "id": "46a395b1-4b66-4990-81b5-f26a87370981",
   "metadata": {},
   "outputs": [],
   "source": [
    "import pandas as pd\n",
    "import numpy as np\n",
    "import plotly.express as px\n",
    "import requests\n",
    "\n",
    "pd.set_option(\"display.max_columns\", None)"
   ]
  },
  {
   "cell_type": "markdown",
   "id": "4a71878d-a082-4711-9656-40ec191c8298",
   "metadata": {},
   "source": [
    "### Functions"
   ]
  },
  {
   "cell_type": "code",
   "execution_count": 7,
   "id": "7700a0ae-7763-438a-8125-3046dc337d71",
   "metadata": {},
   "outputs": [],
   "source": [
    "def get_listings(api_key, listing_url):\n",
    "    url = \"https://app.scrapeak.com/v1/scrapers/zillow/listing\"\n",
    "\n",
    "    querystring = {\n",
    "        \"api_key\": api_key,\n",
    "        \"url\":listing_url\n",
    "    }\n",
    "\n",
    "    return requests.request(\"GET\", url, params=querystring)\n",
    "\n",
    "def get_property_detail(api_key, zpid):\n",
    "    url = \"https://app.scrapeak.com/v1/scrapers/zillow/property\"\n",
    "\n",
    "    querystring = {\n",
    "        \"api_key\": api_key,\n",
    "        \"zpid\":zpid\n",
    "    }\n",
    "\n",
    "    return requests.request(\"GET\", url, params=querystring)\n",
    "\n",
    "def get_zpid(api_key, street, city, state, zip_code=None):\n",
    "    url = \"https://app.scrapeak.com/v1/scrapers/zillow/zpidByAddress\"\n",
    "\n",
    "    querystring = {\n",
    "        \"api_key\": api_key,\n",
    "        \"street\": street,\n",
    "        \"city\": city,\n",
    "        \"state\": state,\n",
    "        \"zip_code\":zip_code\n",
    "    }\n",
    "\n",
    "    return requests.request(\"GET\", url, params=querystring)\n",
    "\n",
    "def convert_sqft_to_acres(dfs):\n",
    "    # Conversion factor from square feet to acres\n",
    "    sqft_to_acres = 1 / 43560\n",
    "\n",
    "    # Using the .loc accessor to modify rows where the Lot Area Unit is 'sqft'\n",
    "    # Convert and round the area to three decimal places\n",
    "    dfs.loc[dfs['Lot Area Unit'] == 'sqft', 'Lot Area'] = (dfs['Lot Area'] * sqft_to_acres).round(3)\n",
    "    dfs.loc[dfs['Lot Area Unit'] == 'sqft', 'Lot Area Unit'] = 'acres'\n",
    "    \n",
    "    return dfs\n"
   ]
  },
  {
   "cell_type": "markdown",
   "id": "6b7df981-d743-4ebd-ba16-3895f06fbeae",
   "metadata": {},
   "source": [
    "### Locals and Constants"
   ]
  },
  {
   "cell_type": "code",
   "execution_count": 8,
   "id": "b40e1374-38ac-40f3-840d-c6517f889f7d",
   "metadata": {},
   "outputs": [],
   "source": [
    "api_key = \"220f3c4c-6532-416a-99b2-8b3e85893f8e\""
   ]
  },
  {
   "cell_type": "markdown",
   "id": "bfaae54b-b3bb-4154-9365-3f85c353b5e8",
   "metadata": {},
   "source": [
    "### Data"
   ]
  },
  {
   "cell_type": "markdown",
   "id": "c6415132-1698-42eb-a15a-4a51db5fcc58",
   "metadata": {},
   "source": [
    "### 1. Property Listings for Sale"
   ]
  },
  {
   "cell_type": "code",
   "execution_count": 9,
   "id": "73fa3d14-e352-4277-a09f-247de6e8afd5",
   "metadata": {},
   "outputs": [],
   "source": [
    "# zillow search url\n",
    "listing_url = \"https://www.zillow.com/dallas-tx/?searchQueryState=%7B%22pagination%22%3A%7B%7D%2C%22isMapVisible%22%3Atrue%2C%22mapBounds%22%3A%7B%22north%22%3A33.041254272695596%2C%22south%22%3A32.594037410567665%2C%22east%22%3A-96.46741105322266%2C%22west%22%3A-97.08745194677735%7D%2C%22filterState%22%3A%7B%22sort%22%3A%7B%22value%22%3A%22globalrelevanceex%22%7D%2C%22ah%22%3A%7B%22value%22%3Atrue%7D%7D%2C%22isListVisible%22%3Atrue%2C%22mapZoom%22%3A11%2C%22regionSelection%22%3A%5B%7B%22regionId%22%3A38128%2C%22regionType%22%3A6%7D%5D%7D\"\n",
    "# get listings\n",
    "listing_response = get_listings(api_key, listing_url)"
   ]
  },
  {
   "cell_type": "code",
   "execution_count": 10,
   "id": "98328846-2863-4365-b927-a2b29266da83",
   "metadata": {},
   "outputs": [
    {
     "ename": "KeyError",
     "evalue": "'categoryTotals'",
     "output_type": "error",
     "traceback": [
      "\u001b[1;31m---------------------------------------------------------------------------\u001b[0m",
      "\u001b[1;31mKeyError\u001b[0m                                  Traceback (most recent call last)",
      "Cell \u001b[1;32mIn[10], line 8\u001b[0m\n\u001b[0;32m      5\u001b[0m listing_response\u001b[38;5;241m.\u001b[39mjson()[\u001b[38;5;124m\"\u001b[39m\u001b[38;5;124mis_success\u001b[39m\u001b[38;5;124m\"\u001b[39m]\n\u001b[0;32m      7\u001b[0m \u001b[38;5;66;03m# view count of properies returned in request\u001b[39;00m\n\u001b[1;32m----> 8\u001b[0m num_of_properties \u001b[38;5;241m=\u001b[39m listing_response\u001b[38;5;241m.\u001b[39mjson()[\u001b[38;5;124m\"\u001b[39m\u001b[38;5;124mdata\u001b[39m\u001b[38;5;124m\"\u001b[39m][\u001b[38;5;124m\"\u001b[39m\u001b[38;5;124mcategoryTotals\u001b[39m\u001b[38;5;124m\"\u001b[39m][\u001b[38;5;124m\"\u001b[39m\u001b[38;5;124mcat1\u001b[39m\u001b[38;5;124m\"\u001b[39m][\u001b[38;5;124m\"\u001b[39m\u001b[38;5;124mtotalResultCount\u001b[39m\u001b[38;5;124m\"\u001b[39m]\n\u001b[0;32m      9\u001b[0m \u001b[38;5;28mprint\u001b[39m(\u001b[38;5;124m\"\u001b[39m\u001b[38;5;124mCount of properties:\u001b[39m\u001b[38;5;124m\"\u001b[39m, num_of_properties)\n",
      "\u001b[1;31mKeyError\u001b[0m: 'categoryTotals'"
     ]
    }
   ],
   "source": [
    "# view all keys\n",
    "listing_response.json().keys()\n",
    "\n",
    "# check if request is successful\n",
    "listing_response.json()[\"is_success\"]\n",
    "\n",
    "# view count of properies returned in request\n",
    "num_of_properties = listing_response.json()[\"data\"][\"categoryTotals\"][\"cat1\"][\"totalResultCount\"]\n",
    "print(\"Count of properties:\", num_of_properties)"
   ]
  },
  {
   "cell_type": "code",
   "execution_count": null,
   "id": "aa918394-7345-48c7-b23e-8eb72eeae731",
   "metadata": {},
   "outputs": [],
   "source": [
    "# view all listings\n",
    "dfs_listings = pd.json_normalize(listing_response.json()[\"data\"][\"cat1\"][\"searchResults\"][\"mapResults\"])\n",
    "print(\"Number of rows:\", len(dfs_listings))\n",
    "print(\"Number of columns:\", len(dfs_listings.columns))\n",
    "dfs_listings"
   ]
  },
  {
   "cell_type": "code",
   "execution_count": null,
   "id": "5b93b0a2-1443-46b0-ad7a-42ad70618fe6",
   "metadata": {},
   "outputs": [],
   "source": [
    "# Export DataFrame to CSV file\n",
    "dfs_listings.to_csv('listings_raw_sale.csv', index=False)"
   ]
  },
  {
   "cell_type": "markdown",
   "id": "c8f328bf-4dc7-4fdd-bafd-0f92d7b12397",
   "metadata": {},
   "source": [
    "### Clean Up Data Frame"
   ]
  },
  {
   "cell_type": "code",
   "execution_count": null,
   "id": "3454aae2-5c7d-48a1-bb94-264fb0fc1afb",
   "metadata": {},
   "outputs": [],
   "source": [
    "dfs = pd.read_csv(\"listings_raw_sale.csv\")\n",
    "\n",
    "# Clean up column names\n",
    "dfs.columns = dfs.columns.str.lower()  # Convert to lowercase\n",
    "dfs.columns = dfs.columns.str.replace(' ', '_')  # Replace spaces with underscores\n",
    "dfs.columns = dfs.columns.str.replace('[^a-zA-Z0-9_]', '')  # Remove special characters\n",
    "\n",
    "# Display the list of column names\n",
    "print(\"Column names:\")\n",
    "print(dfs.columns.tolist())"
   ]
  },
  {
   "cell_type": "markdown",
   "id": "7471627b-ff09-4d98-83d6-3d290da8fb65",
   "metadata": {},
   "source": [
    "This code will:\n",
    "\n",
    "Convert all column names to lowercase.\n",
    "Replace spaces with underscores.\n",
    "Remove any special characters from column names."
   ]
  },
  {
   "cell_type": "code",
   "execution_count": null,
   "id": "c452186a-7322-4c9a-93d4-83eee59a1e22",
   "metadata": {},
   "outputs": [],
   "source": [
    "# Keep specific columns\n",
    "columns_to_keep_s = [\n",
    "    'detailurl', 'statustext', 'area',\n",
    "\n",
    "    'hdpdata.homeinfo.zpid', 'hdpdata.homeinfo.streetaddress', 'hdpdata.homeinfo.zipcode', 'hdpdata.homeinfo.city', 'hdpdata.homeinfo.state', \n",
    "    'hdpdata.homeinfo.latitude', 'hdpdata.homeinfo.longitude', 'hdpdata.homeinfo.price', 'hdpdata.homeinfo.datepricechanged', \n",
    "    'hdpdata.homeinfo.bathrooms', 'hdpdata.homeinfo.bedrooms', 'hdpdata.homeinfo.livingarea', 'hdpdata.homeinfo.hometype', \n",
    "    'hdpdata.homeinfo.homestatus', 'hdpdata.homeinfo.daysonzillow', \n",
    "\n",
    "    'hdpdata.homeinfo.zestimate', 'hdpdata.homeinfo.rentzestimate',\n",
    "\n",
    "    'hdpdata.homeinfo.pricechange',\n",
    "\n",
    "    'hdpdata.homeinfo.taxassessedvalue', 'hdpdata.homeinfo.lotareavalue', 'hdpdata.homeinfo.lotareaunit',\n",
    "    ]\n",
    "dfs[columns_to_keep_s]\n",
    "# Select columns to keep\n",
    "dfs = dfs[columns_to_keep_s]\n",
    "dfs"
   ]
  },
  {
   "cell_type": "code",
   "execution_count": null,
   "id": "1f556eb8-3a09-4985-8a3c-a2bf00b1a13e",
   "metadata": {},
   "outputs": [],
   "source": [
    "column_name_mapping_s = {\n",
    "    'detailurl' : 'URL', \n",
    "    'statustext' : 'Status', \n",
    "    'hdpdata.homeinfo.zpid' : 'ZipID', \n",
    "    'area': \"Sqft\",\n",
    "    'hdpdata.homeinfo.streetaddress' : 'StreetAddress', \n",
    "    'hdpdata.homeinfo.zipcode' : 'ZipCode', \n",
    "    'hdpdata.homeinfo.city' : 'City', \n",
    "    'hdpdata.homeinfo.state' : 'State', \n",
    "    'hdpdata.homeinfo.latitude' : 'Latitude', \n",
    "    'hdpdata.homeinfo.longitude' : 'Longitude', \n",
    "    'hdpdata.homeinfo.price' : 'Price', \n",
    "    'hdpdata.homeinfo.datepricechanged' : 'DatePriceChanged', \n",
    "    'hdpdata.homeinfo.bathrooms' : 'Baths', \n",
    "    'hdpdata.homeinfo.bedrooms' : 'Beds', \n",
    "    'hdpdata.homeinfo.livingarea' : 'Living Area', \n",
    "    'hdpdata.homeinfo.hometype' : 'Home Type', \n",
    "    'hdpdata.homeinfo.homestatus' : 'Home Status', \n",
    "    'hdpdata.homeinfo.daysonzillow' : 'Days on Zillow', \n",
    "\n",
    "    'hdpdata.homeinfo.zestimate' : 'Zestimate', \n",
    "    'hdpdata.homeinfo.rentzestimate' : 'RentZestimate',\n",
    "\n",
    "    'hdpdata.homeinfo.pricechange' : 'PriceChange',\n",
    "\n",
    "    'hdpdata.homeinfo.taxassessedvalue' : 'TaxAssessedValue', \n",
    "    'hdpdata.homeinfo.lotareavalue' : 'LotArea', \n",
    "    'hdpdata.homeinfo.lotareaunit' : 'LotAreaUnit',\n",
    "}\n",
    "\n",
    "# Rename columns\n",
    "dfs.rename(columns=column_name_mapping_s, inplace=True)"
   ]
  },
  {
   "cell_type": "code",
   "execution_count": null,
   "id": "93f1781c-c34d-41ee-9438-376b461a9b0a",
   "metadata": {},
   "outputs": [],
   "source": [
    "# Assuming dfs is your DataFrame\n",
    "number_of_rows, number_of_columns = dfs.shape\n",
    "\n",
    "print(\"Number of rows:\", number_of_rows)\n",
    "print(\"Number of columns:\", number_of_columns)\n",
    "\n",
    "dfs"
   ]
  },
  {
   "cell_type": "code",
   "execution_count": null,
   "id": "f59fe7d8-1b42-4421-bb99-3d0ab204d97b",
   "metadata": {},
   "outputs": [],
   "source": [
    "# Convert Lot Values from Sqft to Acres\n",
    "# Call the function to convert areas\n",
    "dfs = convert_sqft_to_acres(dfs)"
   ]
  },
  {
   "cell_type": "code",
   "execution_count": null,
   "id": "8859bef5-6c78-4b27-b84b-04879a5cab2f",
   "metadata": {},
   "outputs": [],
   "source": [
    "# Export DataFrame to CSV file\n",
    "dfs.to_csv('listings_cleaned_sale.csv', index=False)"
   ]
  }
 ],
 "metadata": {
  "kernelspec": {
   "display_name": "Python 3 (ipykernel)",
   "language": "python",
   "name": "python3"
  },
  "language_info": {
   "codemirror_mode": {
    "name": "ipython",
    "version": 3
   },
   "file_extension": ".py",
   "mimetype": "text/x-python",
   "name": "python",
   "nbconvert_exporter": "python",
   "pygments_lexer": "ipython3",
   "version": "3.11.7"
  }
 },
 "nbformat": 4,
 "nbformat_minor": 5
}
