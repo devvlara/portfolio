{
 "cells": [
  {
   "cell_type": "markdown",
   "id": "df4f9e20-90ed-4985-8c6f-84a792872662",
   "metadata": {},
   "source": [
    "# Goal\n",
    "\n",
    "To Web Scrape Zillow to see the average home price of the Dallas Area. ***Note that API is limited to pulling 500 Values***"
   ]
  },
  {
   "cell_type": "markdown",
   "id": "a0e92278-2645-4b36-9a46-8452182ce636",
   "metadata": {},
   "source": [
    "### Links"
   ]
  },
  {
   "cell_type": "markdown",
   "id": "32027eb0-91bf-447a-8e43-5ddce1fb1e47",
   "metadata": {},
   "source": [
    "Zillow: https://www.zillow.com/dallas-tx/\n",
    "\n",
    "Zillow Sold: https://www.zillow.com/dallas-tx/sold/?searchQueryState=%7B%22pagination%22%3A%7B%7D%2C%22isMapVisible%22%3Atrue%2C%22mapBounds%22%3A%7B%22north%22%3A33.041254272695596%2C%22south%22%3A32.594037410567665%2C%22east%22%3A-96.46741105322266%2C%22west%22%3A-97.08745194677735%7D%2C%22filterState%22%3A%7B%22sort%22%3A%7B%22value%22%3A%22globalrelevanceex%22%7D%2C%22ah%22%3A%7B%22value%22%3Atrue%7D%2C%22rs%22%3A%7B%22value%22%3Atrue%7D%2C%22fsba%22%3A%7B%22value%22%3Afalse%7D%2C%22fsbo%22%3A%7B%22value%22%3Afalse%7D%2C%22nc%22%3A%7B%22value%22%3Afalse%7D%2C%22cmsn%22%3A%7B%22value%22%3Afalse%7D%2C%22auc%22%3A%7B%22value%22%3Afalse%7D%2C%22fore%22%3A%7B%22value%22%3Afalse%7D%7D%2C%22isListVisible%22%3Atrue%2C%22mapZoom%22%3A11%2C%22regionSelection%22%3A%5B%7B%22regionId%22%3A38128%2C%22regionType%22%3A6%7D%5D%7D\n"
   ]
  },
  {
   "cell_type": "markdown",
   "id": "1ba3aaab-0d23-4401-800b-a7d290301001",
   "metadata": {},
   "source": [
    "### Imports"
   ]
  },
  {
   "cell_type": "code",
   "execution_count": 6,
   "id": "46a395b1-4b66-4990-81b5-f26a87370981",
   "metadata": {},
   "outputs": [],
   "source": [
    "import pandas as pd\n",
    "import numpy as np\n",
    "import plotly.express as px\n",
    "import requests\n",
    "\n",
    "pd.set_option(\"display.max_columns\", None)"
   ]
  },
  {
   "cell_type": "markdown",
   "id": "4a71878d-a082-4711-9656-40ec191c8298",
   "metadata": {},
   "source": [
    "### Functions"
   ]
  },
  {
   "cell_type": "code",
   "execution_count": 1,
   "id": "7700a0ae-7763-438a-8125-3046dc337d71",
   "metadata": {},
   "outputs": [],
   "source": [
    "def get_listings(api_key, listing_url):\n",
    "    url = \"https://app.scrapeak.com/v1/scrapers/zillow/listing\"\n",
    "\n",
    "    querystring = {\n",
    "        \"api_key\": api_key,\n",
    "        \"url\":listing_url\n",
    "    }\n",
    "\n",
    "    return requests.request(\"GET\", url, params=querystring)\n",
    "\n",
    "def get_property_detail(api_key, zpid):\n",
    "    url = \"https://app.scrapeak.com/v1/scrapers/zillow/property\"\n",
    "\n",
    "    querystring = {\n",
    "        \"api_key\": api_key,\n",
    "        \"zpid\":zpid\n",
    "    }\n",
    "\n",
    "    return requests.request(\"GET\", url, params=querystring)\n",
    "\n",
    "def get_zpid(api_key, street, city, state, zip_code=None):\n",
    "    url = \"https://app.scrapeak.com/v1/scrapers/zillow/zpidByAddress\"\n",
    "\n",
    "    querystring = {\n",
    "        \"api_key\": api_key,\n",
    "        \"street\": street,\n",
    "        \"city\": city,\n",
    "        \"state\": state,\n",
    "        \"zip_code\":zip_code\n",
    "    }\n",
    "\n",
    "    return requests.request(\"GET\", url, params=querystring)\n",
    "\n",
    "def convert_sqft_to_acres(dfs):\n",
    "    # Conversion factor from square feet to acres\n",
    "    sqft_to_acres = 1 / 43560\n",
    "\n",
    "    # Using the .loc accessor to modify rows where the Lot Area Unit is 'sqft'\n",
    "    # Convert and round the area to three decimal places\n",
    "    dfs.loc[dfs['Lot Area Unit'] == 'sqft', 'Lot Area'] = (dfs['Lot Area'] * sqft_to_acres).round(3)\n",
    "    dfs.loc[dfs['Lot Area Unit'] == 'sqft', 'Lot Area Unit'] = 'acres'\n",
    "    \n",
    "    return dfs\n"
   ]
  },
  {
   "cell_type": "markdown",
   "id": "6b7df981-d743-4ebd-ba16-3895f06fbeae",
   "metadata": {},
   "source": [
    "### Locals and Constants"
   ]
  },
  {
   "cell_type": "code",
   "execution_count": 2,
   "id": "b40e1374-38ac-40f3-840d-c6517f889f7d",
   "metadata": {},
   "outputs": [],
   "source": [
    "api_key = \"220f3c4c-6532-416a-99b2-8b3e85893f8e\""
   ]
  },
  {
   "cell_type": "markdown",
   "id": "bfaae54b-b3bb-4154-9365-3f85c353b5e8",
   "metadata": {},
   "source": [
    "### Data"
   ]
  },
  {
   "cell_type": "code",
   "execution_count": 3,
   "id": "37c40989-9072-4fff-b71c-493d7fdaf9fc",
   "metadata": {},
   "outputs": [
    {
     "ename": "NameError",
     "evalue": "name 'requests' is not defined",
     "output_type": "error",
     "traceback": [
      "\u001b[1;31m---------------------------------------------------------------------------\u001b[0m",
      "\u001b[1;31mNameError\u001b[0m                                 Traceback (most recent call last)",
      "Cell \u001b[1;32mIn[3], line 4\u001b[0m\n\u001b[0;32m      1\u001b[0m sold_url \u001b[38;5;241m=\u001b[39m \u001b[38;5;124m\"\u001b[39m\u001b[38;5;124mhttps://www.zillow.com/dallas-tx/sold/?searchQueryState=\u001b[39m\u001b[38;5;124m%\u001b[39m\u001b[38;5;124m7B\u001b[39m\u001b[38;5;124m%\u001b[39m\u001b[38;5;124m22pagination\u001b[39m\u001b[38;5;132;01m%22%\u001b[39;00m\u001b[38;5;124m3A\u001b[39m\u001b[38;5;124m%\u001b[39m\u001b[38;5;124m7B\u001b[39m\u001b[38;5;124m%\u001b[39m\u001b[38;5;124m7D\u001b[39m\u001b[38;5;124m%\u001b[39m\u001b[38;5;124m2C\u001b[39m\u001b[38;5;132;01m%22i\u001b[39;00m\u001b[38;5;124msMapVisible\u001b[39m\u001b[38;5;132;01m%22%\u001b[39;00m\u001b[38;5;124m3Atrue\u001b[39m\u001b[38;5;124m%\u001b[39m\u001b[38;5;124m2C\u001b[39m\u001b[38;5;124m%\u001b[39m\u001b[38;5;124m22mapBounds\u001b[39m\u001b[38;5;132;01m%22%\u001b[39;00m\u001b[38;5;124m3A\u001b[39m\u001b[38;5;124m%\u001b[39m\u001b[38;5;124m7B\u001b[39m\u001b[38;5;124m%\u001b[39m\u001b[38;5;124m22north\u001b[39m\u001b[38;5;132;01m%22%\u001b[39;00m\u001b[38;5;124m3A33.041254272695596\u001b[39m\u001b[38;5;124m%\u001b[39m\u001b[38;5;124m2C\u001b[39m\u001b[38;5;132;01m%22s\u001b[39;00m\u001b[38;5;124mouth\u001b[39m\u001b[38;5;132;01m%22%\u001b[39;00m\u001b[38;5;124m3A32.594037410567665\u001b[39m\u001b[38;5;124m%\u001b[39m\u001b[38;5;124m2C\u001b[39m\u001b[38;5;132;01m%22e\u001b[39;00m\u001b[38;5;124mast\u001b[39m\u001b[38;5;132;01m%22%\u001b[39;00m\u001b[38;5;124m3A-96.46741105322266\u001b[39m\u001b[38;5;124m%\u001b[39m\u001b[38;5;124m2C\u001b[39m\u001b[38;5;124m%\u001b[39m\u001b[38;5;124m22west\u001b[39m\u001b[38;5;132;01m%22%\u001b[39;00m\u001b[38;5;124m3A-97.08745194677735\u001b[39m\u001b[38;5;124m%\u001b[39m\u001b[38;5;124m7D\u001b[39m\u001b[38;5;124m%\u001b[39m\u001b[38;5;124m2C\u001b[39m\u001b[38;5;132;01m%22f\u001b[39;00m\u001b[38;5;124milterState\u001b[39m\u001b[38;5;132;01m%22%\u001b[39;00m\u001b[38;5;124m3A\u001b[39m\u001b[38;5;124m%\u001b[39m\u001b[38;5;124m7B\u001b[39m\u001b[38;5;132;01m%22s\u001b[39;00m\u001b[38;5;124mort\u001b[39m\u001b[38;5;132;01m%22%\u001b[39;00m\u001b[38;5;124m3A\u001b[39m\u001b[38;5;124m%\u001b[39m\u001b[38;5;124m7B\u001b[39m\u001b[38;5;124m%\u001b[39m\u001b[38;5;124m22value\u001b[39m\u001b[38;5;132;01m%22%\u001b[39;00m\u001b[38;5;124m3A\u001b[39m\u001b[38;5;132;01m%22g\u001b[39;00m\u001b[38;5;124mlobalrelevanceex\u001b[39m\u001b[38;5;132;01m%22%\u001b[39;00m\u001b[38;5;124m7D\u001b[39m\u001b[38;5;124m%\u001b[39m\u001b[38;5;124m2C\u001b[39m\u001b[38;5;132;01m%22a\u001b[39;00m\u001b[38;5;124mh\u001b[39m\u001b[38;5;132;01m%22%\u001b[39;00m\u001b[38;5;124m3A\u001b[39m\u001b[38;5;124m%\u001b[39m\u001b[38;5;124m7B\u001b[39m\u001b[38;5;124m%\u001b[39m\u001b[38;5;124m22value\u001b[39m\u001b[38;5;132;01m%22%\u001b[39;00m\u001b[38;5;124m3Atrue\u001b[39m\u001b[38;5;124m%\u001b[39m\u001b[38;5;124m7D\u001b[39m\u001b[38;5;124m%\u001b[39m\u001b[38;5;124m2C\u001b[39m\u001b[38;5;132;01m%22r\u001b[39;00m\u001b[38;5;124ms\u001b[39m\u001b[38;5;132;01m%22%\u001b[39;00m\u001b[38;5;124m3A\u001b[39m\u001b[38;5;124m%\u001b[39m\u001b[38;5;124m7B\u001b[39m\u001b[38;5;124m%\u001b[39m\u001b[38;5;124m22value\u001b[39m\u001b[38;5;132;01m%22%\u001b[39;00m\u001b[38;5;124m3Atrue\u001b[39m\u001b[38;5;124m%\u001b[39m\u001b[38;5;124m7D\u001b[39m\u001b[38;5;124m%\u001b[39m\u001b[38;5;124m2C\u001b[39m\u001b[38;5;132;01m%22f\u001b[39;00m\u001b[38;5;124msba\u001b[39m\u001b[38;5;132;01m%22%\u001b[39;00m\u001b[38;5;124m3A\u001b[39m\u001b[38;5;124m%\u001b[39m\u001b[38;5;124m7B\u001b[39m\u001b[38;5;124m%\u001b[39m\u001b[38;5;124m22value\u001b[39m\u001b[38;5;132;01m%22%\u001b[39;00m\u001b[38;5;124m3Afalse\u001b[39m\u001b[38;5;124m%\u001b[39m\u001b[38;5;124m7D\u001b[39m\u001b[38;5;124m%\u001b[39m\u001b[38;5;124m2C\u001b[39m\u001b[38;5;132;01m%22f\u001b[39;00m\u001b[38;5;124msbo\u001b[39m\u001b[38;5;132;01m%22%\u001b[39;00m\u001b[38;5;124m3A\u001b[39m\u001b[38;5;124m%\u001b[39m\u001b[38;5;124m7B\u001b[39m\u001b[38;5;124m%\u001b[39m\u001b[38;5;124m22value\u001b[39m\u001b[38;5;132;01m%22%\u001b[39;00m\u001b[38;5;124m3Afalse\u001b[39m\u001b[38;5;124m%\u001b[39m\u001b[38;5;124m7D\u001b[39m\u001b[38;5;124m%\u001b[39m\u001b[38;5;124m2C\u001b[39m\u001b[38;5;124m%\u001b[39m\u001b[38;5;124m22nc\u001b[39m\u001b[38;5;132;01m%22%\u001b[39;00m\u001b[38;5;124m3A\u001b[39m\u001b[38;5;124m%\u001b[39m\u001b[38;5;124m7B\u001b[39m\u001b[38;5;124m%\u001b[39m\u001b[38;5;124m22value\u001b[39m\u001b[38;5;132;01m%22%\u001b[39;00m\u001b[38;5;124m3Afalse\u001b[39m\u001b[38;5;124m%\u001b[39m\u001b[38;5;124m7D\u001b[39m\u001b[38;5;124m%\u001b[39m\u001b[38;5;124m2C\u001b[39m\u001b[38;5;132;01m%22c\u001b[39;00m\u001b[38;5;124mmsn\u001b[39m\u001b[38;5;132;01m%22%\u001b[39;00m\u001b[38;5;124m3A\u001b[39m\u001b[38;5;124m%\u001b[39m\u001b[38;5;124m7B\u001b[39m\u001b[38;5;124m%\u001b[39m\u001b[38;5;124m22value\u001b[39m\u001b[38;5;132;01m%22%\u001b[39;00m\u001b[38;5;124m3Afalse\u001b[39m\u001b[38;5;124m%\u001b[39m\u001b[38;5;124m7D\u001b[39m\u001b[38;5;124m%\u001b[39m\u001b[38;5;124m2C\u001b[39m\u001b[38;5;132;01m%22a\u001b[39;00m\u001b[38;5;124muc\u001b[39m\u001b[38;5;132;01m%22%\u001b[39;00m\u001b[38;5;124m3A\u001b[39m\u001b[38;5;124m%\u001b[39m\u001b[38;5;124m7B\u001b[39m\u001b[38;5;124m%\u001b[39m\u001b[38;5;124m22value\u001b[39m\u001b[38;5;132;01m%22%\u001b[39;00m\u001b[38;5;124m3Afalse\u001b[39m\u001b[38;5;124m%\u001b[39m\u001b[38;5;124m7D\u001b[39m\u001b[38;5;124m%\u001b[39m\u001b[38;5;124m2C\u001b[39m\u001b[38;5;132;01m%22f\u001b[39;00m\u001b[38;5;124more\u001b[39m\u001b[38;5;132;01m%22%\u001b[39;00m\u001b[38;5;124m3A\u001b[39m\u001b[38;5;124m%\u001b[39m\u001b[38;5;124m7B\u001b[39m\u001b[38;5;124m%\u001b[39m\u001b[38;5;124m22value\u001b[39m\u001b[38;5;132;01m%22%\u001b[39;00m\u001b[38;5;124m3Afalse\u001b[39m\u001b[38;5;124m%\u001b[39m\u001b[38;5;124m7D\u001b[39m\u001b[38;5;124m%\u001b[39m\u001b[38;5;124m7D\u001b[39m\u001b[38;5;124m%\u001b[39m\u001b[38;5;124m2C\u001b[39m\u001b[38;5;132;01m%22i\u001b[39;00m\u001b[38;5;124msListVisible\u001b[39m\u001b[38;5;132;01m%22%\u001b[39;00m\u001b[38;5;124m3Atrue\u001b[39m\u001b[38;5;124m%\u001b[39m\u001b[38;5;124m2C\u001b[39m\u001b[38;5;124m%\u001b[39m\u001b[38;5;124m22mapZoom\u001b[39m\u001b[38;5;132;01m%22%\u001b[39;00m\u001b[38;5;124m3A11\u001b[39m\u001b[38;5;124m%\u001b[39m\u001b[38;5;124m2C\u001b[39m\u001b[38;5;132;01m%22r\u001b[39;00m\u001b[38;5;124megionSelection\u001b[39m\u001b[38;5;132;01m%22%\u001b[39;00m\u001b[38;5;124m3A\u001b[39m\u001b[38;5;124m%\u001b[39m\u001b[38;5;124m5B\u001b[39m\u001b[38;5;124m%\u001b[39m\u001b[38;5;124m7B\u001b[39m\u001b[38;5;132;01m%22r\u001b[39;00m\u001b[38;5;124megionId\u001b[39m\u001b[38;5;132;01m%22%\u001b[39;00m\u001b[38;5;124m3A38128\u001b[39m\u001b[38;5;124m%\u001b[39m\u001b[38;5;124m2C\u001b[39m\u001b[38;5;132;01m%22r\u001b[39;00m\u001b[38;5;124megionType\u001b[39m\u001b[38;5;132;01m%22%\u001b[39;00m\u001b[38;5;124m3A6\u001b[39m\u001b[38;5;124m%\u001b[39m\u001b[38;5;124m7D\u001b[39m\u001b[38;5;124m%\u001b[39m\u001b[38;5;124m5D\u001b[39m\u001b[38;5;124m%\u001b[39m\u001b[38;5;124m7D\u001b[39m\u001b[38;5;124m\"\u001b[39m\n\u001b[0;32m      3\u001b[0m \u001b[38;5;66;03m# get listings\u001b[39;00m\n\u001b[1;32m----> 4\u001b[0m sold_response \u001b[38;5;241m=\u001b[39m get_listings(api_key, sold_url)\n",
      "Cell \u001b[1;32mIn[1], line 9\u001b[0m, in \u001b[0;36mget_listings\u001b[1;34m(api_key, listing_url)\u001b[0m\n\u001b[0;32m      2\u001b[0m url \u001b[38;5;241m=\u001b[39m \u001b[38;5;124m\"\u001b[39m\u001b[38;5;124mhttps://app.scrapeak.com/v1/scrapers/zillow/listing\u001b[39m\u001b[38;5;124m\"\u001b[39m\n\u001b[0;32m      4\u001b[0m querystring \u001b[38;5;241m=\u001b[39m {\n\u001b[0;32m      5\u001b[0m     \u001b[38;5;124m\"\u001b[39m\u001b[38;5;124mapi_key\u001b[39m\u001b[38;5;124m\"\u001b[39m: api_key,\n\u001b[0;32m      6\u001b[0m     \u001b[38;5;124m\"\u001b[39m\u001b[38;5;124murl\u001b[39m\u001b[38;5;124m\"\u001b[39m:listing_url\n\u001b[0;32m      7\u001b[0m }\n\u001b[1;32m----> 9\u001b[0m \u001b[38;5;28;01mreturn\u001b[39;00m requests\u001b[38;5;241m.\u001b[39mrequest(\u001b[38;5;124m\"\u001b[39m\u001b[38;5;124mGET\u001b[39m\u001b[38;5;124m\"\u001b[39m, url, params\u001b[38;5;241m=\u001b[39mquerystring)\n",
      "\u001b[1;31mNameError\u001b[0m: name 'requests' is not defined"
     ]
    }
   ],
   "source": [
    "sold_url = \"https://www.zillow.com/dallas-tx/sold/?searchQueryState=%7B%22pagination%22%3A%7B%7D%2C%22isMapVisible%22%3Atrue%2C%22mapBounds%22%3A%7B%22north%22%3A33.041254272695596%2C%22south%22%3A32.594037410567665%2C%22east%22%3A-96.46741105322266%2C%22west%22%3A-97.08745194677735%7D%2C%22filterState%22%3A%7B%22sort%22%3A%7B%22value%22%3A%22globalrelevanceex%22%7D%2C%22ah%22%3A%7B%22value%22%3Atrue%7D%2C%22rs%22%3A%7B%22value%22%3Atrue%7D%2C%22fsba%22%3A%7B%22value%22%3Afalse%7D%2C%22fsbo%22%3A%7B%22value%22%3Afalse%7D%2C%22nc%22%3A%7B%22value%22%3Afalse%7D%2C%22cmsn%22%3A%7B%22value%22%3Afalse%7D%2C%22auc%22%3A%7B%22value%22%3Afalse%7D%2C%22fore%22%3A%7B%22value%22%3Afalse%7D%7D%2C%22isListVisible%22%3Atrue%2C%22mapZoom%22%3A11%2C%22regionSelection%22%3A%5B%7B%22regionId%22%3A38128%2C%22regionType%22%3A6%7D%5D%7D\"\n",
    "\n",
    "# get listings\n",
    "sold_response = get_listings(api_key, sold_url)"
   ]
  },
  {
   "cell_type": "code",
   "execution_count": 4,
   "id": "5b53304f-f350-4fb6-a5b2-7b00d07eb9c4",
   "metadata": {},
   "outputs": [
    {
     "ename": "NameError",
     "evalue": "name 'sold_response' is not defined",
     "output_type": "error",
     "traceback": [
      "\u001b[1;31m---------------------------------------------------------------------------\u001b[0m",
      "\u001b[1;31mNameError\u001b[0m                                 Traceback (most recent call last)",
      "Cell \u001b[1;32mIn[4], line 2\u001b[0m\n\u001b[0;32m      1\u001b[0m \u001b[38;5;66;03m# view all keys\u001b[39;00m\n\u001b[1;32m----> 2\u001b[0m sold_response\u001b[38;5;241m.\u001b[39mjson()\u001b[38;5;241m.\u001b[39mkeys()\n\u001b[0;32m      4\u001b[0m \u001b[38;5;66;03m# check if request is successful\u001b[39;00m\n\u001b[0;32m      5\u001b[0m sold_response\u001b[38;5;241m.\u001b[39mjson()[\u001b[38;5;124m\"\u001b[39m\u001b[38;5;124mis_success\u001b[39m\u001b[38;5;124m\"\u001b[39m]\n",
      "\u001b[1;31mNameError\u001b[0m: name 'sold_response' is not defined"
     ]
    }
   ],
   "source": [
    "# view all keys\n",
    "sold_response.json().keys()\n",
    "\n",
    "# check if request is successful\n",
    "sold_response.json()[\"is_success\"]\n",
    "\n",
    "# view count of properies returned in request\n",
    "num_of_properties = sold_response.json()[\"data\"][\"categoryTotals\"][\"cat1\"][\"totalResultCount\"]\n",
    "print(\"Count of properties:\", num_of_properties)"
   ]
  },
  {
   "cell_type": "code",
   "execution_count": null,
   "id": "fb549843-8e2d-41bd-b09d-be2e808d42fa",
   "metadata": {},
   "outputs": [],
   "source": [
    "# view all listings\n",
    "df_listings = pd.json_normalize(sold_response.json()[\"data\"][\"cat1\"][\"searchResults\"][\"mapResults\"])\n",
    "print(\"Number of rows:\", len(df_listings))\n",
    "print(\"Number of columns:\", len(df_listings.columns))\n",
    "df_listings"
   ]
  },
  {
   "cell_type": "code",
   "execution_count": null,
   "id": "60578bbd-87c3-4086-b01a-b3d228370aa0",
   "metadata": {},
   "outputs": [],
   "source": [
    "# Export DataFrame to CSV file\n",
    "df_listings.to_csv('listings_raw_sold.csv', index=False)"
   ]
  },
  {
   "cell_type": "markdown",
   "id": "f77f44cb-cf57-4021-a3c7-cb4704babdf4",
   "metadata": {},
   "source": [
    "## Clean Up Data Frame"
   ]
  },
  {
   "cell_type": "code",
   "execution_count": null,
   "id": "2dfbe981-81f8-4dea-8d47-6258b8daa14e",
   "metadata": {},
   "outputs": [],
   "source": [
    "df = pd.read_csv(\"listings_raw_sold.csv\")\n",
    "\n",
    "# Clean up column names\n",
    "df.columns = df.columns.str.lower()  # Convert to lowercase\n",
    "df.columns = df.columns.str.replace(' ', '_')  # Replace spaces with underscores\n",
    "df.columns = df.columns.str.replace('[^a-zA-Z0-9_]', '')  # Remove special characters\n",
    "\n",
    "# Display the list of column names\n",
    "print(\"Column names:\")\n",
    "print(df.columns.tolist())"
   ]
  },
  {
   "cell_type": "code",
   "execution_count": null,
   "id": "69481fc6-62e6-49c7-8789-e9cf42c56067",
   "metadata": {},
   "outputs": [],
   "source": [
    "# Keep specific columns\n",
    "columns_to_keep = [\n",
    "    'detailurl', 'statustext', 'area',\n",
    "\n",
    "    'hdpdata.homeinfo.zpid', 'hdpdata.homeinfo.streetaddress', 'hdpdata.homeinfo.zipcode', 'hdpdata.homeinfo.city', 'hdpdata.homeinfo.state', \n",
    "    'hdpdata.homeinfo.latitude', 'hdpdata.homeinfo.longitude', 'hdpdata.homeinfo.price', 'hdpdata.homeinfo.datepricechanged', \n",
    "    'hdpdata.homeinfo.bathrooms', 'hdpdata.homeinfo.bedrooms', 'hdpdata.homeinfo.livingarea', 'hdpdata.homeinfo.hometype', \n",
    "    'hdpdata.homeinfo.homestatus', 'hdpdata.homeinfo.daysonzillow', \n",
    "\n",
    "    'hdpdata.homeinfo.zestimate', 'hdpdata.homeinfo.rentzestimate',\n",
    "\n",
    "    'hdpdata.homeinfo.pricechange',\n",
    "\n",
    "    'hdpdata.homeinfo.taxassessedvalue', 'hdpdata.homeinfo.lotareavalue', 'hdpdata.homeinfo.lotareaunit',\n",
    "\n",
    "    # MIGHT BE MORE\n",
    "    \n",
    "    ]\n",
    "df[columns_to_keep]\n",
    "# Select columns to keep\n",
    "df = df[columns_to_keep]\n",
    "df"
   ]
  },
  {
   "cell_type": "code",
   "execution_count": null,
   "id": "61389e15-6613-4c10-834f-a5e1ae03ba57",
   "metadata": {},
   "outputs": [],
   "source": [
    "column_name_mapping = {\n",
    "    'detailurl' : 'URL', \n",
    "    'statustext' : 'Status', \n",
    "    'hdpdata.homeinfo.zpid' : 'Zip ID', \n",
    "    'area': \"Sqft\",\n",
    "    'hdpdata.homeinfo.streetaddress' : 'Street Address', \n",
    "    'hdpdata.homeinfo.zipcode' : 'Zip Code', \n",
    "    'hdpdata.homeinfo.city' : 'City', \n",
    "    'hdpdata.homeinfo.state' : 'State', \n",
    "    'hdpdata.homeinfo.latitude' : 'Latitude', \n",
    "    'hdpdata.homeinfo.longitude' : 'Longitude', \n",
    "    'hdpdata.homeinfo.price' : 'Price', \n",
    "    'hdpdata.homeinfo.datepricechanged' : 'Date Price Changed', \n",
    "    'hdpdata.homeinfo.bathrooms' : 'Baths', \n",
    "    'hdpdata.homeinfo.bedrooms' : 'Beds', \n",
    "    'hdpdata.homeinfo.livingarea' : 'Living Area', \n",
    "    'hdpdata.homeinfo.hometype' : 'Home Type', \n",
    "    'hdpdata.homeinfo.homestatus' : 'Home Status', \n",
    "    'hdpdata.homeinfo.daysonzillow' : 'Days on Zillow', \n",
    "\n",
    "    'hdpdata.homeinfo.zestimate' : 'Zestimate', \n",
    "    'hdpdata.homeinfo.rentzestimate' : 'Rent Zestimate',\n",
    "\n",
    "    'hdpdata.homeinfo.pricechange' : 'Price Change',\n",
    "\n",
    "    'hdpdata.homeinfo.taxassessedvalue' : 'Tax Assessed Value', \n",
    "    'hdpdata.homeinfo.lotareavalue' : 'Lot Area', \n",
    "    'hdpdata.homeinfo.lotareaunit' : 'Lot Area Unit',\n",
    "\n",
    "\n",
    "    # MIGHT BE MORE\n",
    "    \n",
    "}\n",
    "\n",
    "# Rename columns\n",
    "df.rename(columns=column_name_mapping, inplace=True)"
   ]
  },
  {
   "cell_type": "code",
   "execution_count": null,
   "id": "26d58471-9481-414e-bb84-a62ca16e9e10",
   "metadata": {},
   "outputs": [],
   "source": [
    "# Assuming dfs is your DataFrame\n",
    "number_of_rows, number_of_columns = df.shape\n",
    "\n",
    "print(\"Number of rows:\", number_of_rows)\n",
    "print(\"Number of columns:\", number_of_columns)\n",
    "\n",
    "df"
   ]
  },
  {
   "cell_type": "code",
   "execution_count": null,
   "id": "c99ad15d-1867-47bc-84fa-c5723dbd8884",
   "metadata": {},
   "outputs": [],
   "source": [
    "# Convert Lot Values from Sqft to Acres\n",
    "# Call the function to convert areas\n",
    "df = convert_sqft_to_acres(df)"
   ]
  },
  {
   "cell_type": "code",
   "execution_count": null,
   "id": "789db978-76d9-4ceb-9a91-1e71d8105e45",
   "metadata": {},
   "outputs": [],
   "source": [
    "# Export DataFrame to CSV file\n",
    "df.to_csv('listings_cleaned_sold.csv', index=False)"
   ]
  }
 ],
 "metadata": {
  "kernelspec": {
   "display_name": "Python 3 (ipykernel)",
   "language": "python",
   "name": "python3"
  },
  "language_info": {
   "codemirror_mode": {
    "name": "ipython",
    "version": 3
   },
   "file_extension": ".py",
   "mimetype": "text/x-python",
   "name": "python",
   "nbconvert_exporter": "python",
   "pygments_lexer": "ipython3",
   "version": "3.11.7"
  }
 },
 "nbformat": 4,
 "nbformat_minor": 5
}
